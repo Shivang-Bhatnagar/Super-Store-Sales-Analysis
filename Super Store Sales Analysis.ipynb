{
 "cells": [
  {
   "cell_type": "markdown",
   "metadata": {},
   "source": [
    "# Import the necessary libraries"
   ]
  },
  {
   "cell_type": "code",
   "execution_count": null,
   "metadata": {},
   "outputs": [],
   "source": [
    "import pandas as pd\n",
    "import numpy as np\n",
    "import  matplotlib.pyplot as plt\n",
    "import seaborn as sns\n",
    "import time"
   ]
  },
  {
   "cell_type": "markdown",
   "metadata": {},
   "source": [
    "# Load the dataset"
   ]
  },
  {
   "cell_type": "code",
   "execution_count": null,
   "metadata": {},
   "outputs": [],
   "source": [
    "df = pd.read_csv('OneDrive/Desktop/Week_6/Week 6 - Superstore Sales Dataset/train.csv')"
   ]
  },
  {
   "cell_type": "markdown",
   "metadata": {},
   "source": [
    "# Let's take a look at the dataset"
   ]
  },
  {
   "cell_type": "code",
   "execution_count": null,
   "metadata": {},
   "outputs": [],
   "source": [
    "df.head(5)"
   ]
  },
  {
   "cell_type": "code",
   "execution_count": null,
   "metadata": {},
   "outputs": [],
   "source": [
    "df.tail(5)"
   ]
  },
  {
   "cell_type": "code",
   "execution_count": null,
   "metadata": {},
   "outputs": [],
   "source": [
    "df.describe()"
   ]
  },
  {
   "cell_type": "code",
   "execution_count": null,
   "metadata": {},
   "outputs": [],
   "source": [
    "df.drop('Row ID',axis = 1, inplace = True) #Dropping the Row ID column\n",
    "df['Order Date'] = pd.to_datetime(df['Order Date'], format='%d/%m/%Y') #convert Order dates to pandas datetime format\n",
    "df['Ship Date'] = pd.to_datetime(df['Ship Date'], format='%d/%m/%Y')   #convert shipping dates to pandas datetime format"
   ]
  },
  {
   "cell_type": "code",
   "execution_count": null,
   "metadata": {},
   "outputs": [],
   "source": [
    "#sorting data by order date\n",
    "df.sort_values(by=['Order Date'], inplace=True, ascending=True)"
   ]
  },
  {
   "cell_type": "code",
   "execution_count": null,
   "metadata": {},
   "outputs": [],
   "source": [
    "#setting the index to be the date will help us a lot later on\n",
    "df.set_index(\"Order Date\", inplace = True)"
   ]
  },
  {
   "cell_type": "markdown",
   "metadata": {},
   "source": [
    "# Checking for null values"
   ]
  },
  {
   "cell_type": "code",
   "execution_count": null,
   "metadata": {},
   "outputs": [],
   "source": [
    "print(df.isnull().sum())"
   ]
  },
  {
   "cell_type": "markdown",
   "metadata": {},
   "source": [
    " ### To handle the null values in postal code. We will not drop them, instead we will add the postal code of respective city.\n",
    "\n",
    "#### 1. we need to find the cities for which the postal code is not mentioned.\n",
    "#### 2. Fill the postal code of the respective city into the postal code column."
   ]
  },
  {
   "cell_type": "code",
   "execution_count": null,
   "metadata": {},
   "outputs": [],
   "source": [
    "df[df['Postal Code'].isnull()]"
   ]
  },
  {
   "cell_type": "markdown",
   "metadata": {},
   "source": [
    "### We can see that the postal code is not mentioned only for Burlington city in Vermont state. So, we need to fill the postal code of that city."
   ]
  },
  {
   "cell_type": "code",
   "execution_count": null,
   "metadata": {},
   "outputs": [],
   "source": [
    "df['Postal Code'] = df['Postal Code'].fillna(5401) # Postal code for Burlington city"
   ]
  },
  {
   "cell_type": "code",
   "execution_count": null,
   "metadata": {},
   "outputs": [],
   "source": [
    "print(df.isnull().sum())"
   ]
  },
  {
   "cell_type": "markdown",
   "metadata": {},
   "source": [
    " ## Let's find out which states generated the highest revenue!\n",
    "## Here are the Top 10 States which generated the highest revenue"
   ]
  },
  {
   "cell_type": "code",
   "execution_count": null,
   "metadata": {},
   "outputs": [],
   "source": [
    "numeric_columns = df.select_dtypes(include=['float64', 'int64','object'])\n",
    "Top_states = numeric_columns.groupby([\"State\"]).sum().sort_values(\"Sales\", ascending=False).head(20) # Sort the States as per the sales\n",
    "Top_states = Top_states[[\"Sales\"]].round(2) # Round off the Sales Value up to 2 decimal places\n",
    "Top_states.reset_index(inplace=True)"
   ]
  },
  {
   "cell_type": "code",
   "execution_count": null,
   "metadata": {},
   "outputs": [],
   "source": [
    "plt.figure(figsize = (15,5)) # width and height of figure is defined in inches\n",
    "plt.title(\"States which generated Highest Revenue (2015-2019)\", fontsize=18) \n",
    "plt.bar(Top_states[\"State\"], Top_states[\"Sales\"],color= '#FF6F61',edgecolor='Red', linewidth = 1)\n",
    "plt.xlabel(\"States\",fontsize=15) # x axis shows the States\n",
    "plt.ylabel(\"Revenue\",fontsize=15) # y axis shows the Revenue\n",
    "plt.xticks(fontsize=12, rotation=90)\n",
    "plt.yticks(fontsize=12)\n",
    "plt.show()"
   ]
  },
  {
   "cell_type": "markdown",
   "metadata": {},
   "source": [
    "## Let's find out which cities generated highest revenue!\n",
    "## Here are the top 10 cities which generated the highest revenue"
   ]
  },
  {
   "cell_type": "code",
   "execution_count": null,
   "metadata": {},
   "outputs": [],
   "source": [
    "Top_cities = numeric_columns.groupby([\"City\"]).sum().sort_values(\"Sales\", ascending=False).head(20) # Sort the States as per the sales\n",
    "Top_cities = Top_cities[[\"Sales\"]].round(2) # Round off the Sales Value up to 2 decimal places\n",
    "Top_cities.reset_index(inplace=True)"
   ]
  },
  {
   "cell_type": "code",
   "execution_count": null,
   "metadata": {},
   "outputs": [],
   "source": [
    "plt.figure(figsize = (15,5)) # width and height of figure is defined in inches\n",
    "plt.title(\"Cities which generated Highest Revenue (2015-2019)\", fontsize=18)\n",
    "plt.bar(Top_cities[\"City\"], Top_cities[\"Sales\"],color= '#95DEE3',edgecolor='blue', linewidth = 1)\n",
    "plt.xlabel(\"Cities\",fontsize=15)  # x axis shows the States\n",
    "plt.ylabel(\"Revenue\",fontsize=15)  # y axis shows the Revenue\n",
    "plt.xticks(fontsize=12, rotation=90)\n",
    "plt.yticks(fontsize=12)\n",
    "plt.show()"
   ]
  },
  {
   "cell_type": "markdown",
   "metadata": {},
   "source": [
    "## Let's look at the revenue generated by each category!"
   ]
  },
  {
   "cell_type": "code",
   "execution_count": null,
   "metadata": {},
   "outputs": [],
   "source": [
    "Top_category = numeric_columns.groupby([\"Category\"]).sum().sort_values(\"Sales\", ascending=False)  # Sort the Categories as per the sales\n",
    "Top_category = Top_category[[\"Sales\"]] # keep only the sales column in the dataframe\n",
    "total_revenue_category = Top_category[\"Sales\"].sum() # To find the total revenue generated as per category\n",
    "total_revenue_category = str(int(total_revenue_category)) # Convert the total_revenue_category from float to int and then to string\n",
    "total_revenue_category = '$' + total_revenue_category # Adding '$' sign before the Value\n",
    "Top_category.reset_index(inplace=True)"
   ]
  },
  {
   "cell_type": "code",
   "execution_count": null,
   "metadata": {},
   "outputs": [],
   "source": [
    "plt.rcParams[\"figure.figsize\"] = (13,5) # width and height of figure is defined in inches\n",
    "plt.rcParams['font.size'] = 12.0 # Font size is defined\n",
    "plt.rcParams['font.weight'] = 6 # Font weight is defined\n",
    "# we don't want to look at the percentage distribution in the pie chart. Instead, we want to look at the exact revenue generated by the categories.\n",
    "def autopct_format(values): \n",
    "    def my_format(pct): \n",
    "        total = sum(values) \n",
    "        val = int(round(pct*total/100.0))\n",
    "        return ' ${v:d}'.format(v=val)\n",
    "    return my_format\n",
    "colors = ['#BC243C','#FE840E','#C62168'] # Colors are defined for the pie chart\n",
    "explode = (0.05,0.05,0.05)\n",
    "fig1, ax1 = plt.subplots()\n",
    "ax1.pie(Top_category['Sales'], colors = colors, labels=Top_category['Category'], autopct= autopct_format(Top_category['Sales']), startangle=90,explode=explode)\n",
    "centre_circle = plt.Circle((0,0),0.82,fc='white') # drawing a circle on the pie chart to make it look better \n",
    "fig = plt.gcf()\n",
    "fig.gca().add_artist(centre_circle) # Add the circle on the pie chart\n",
    "# Equal aspect ratio ensures that pie is drawn as a circle\n",
    "ax1.axis('equal') \n",
    "# we can look the total revenue generated by all the categories at the center\n",
    "label = ax1.annotate('Total Revenue \\n'+str(total_revenue_category),color = 'red', xy=(0, 0), fontsize=12, ha=\"center\")\n",
    "plt.tight_layout()\n",
    "plt.show()"
   ]
  },
  {
   "cell_type": "markdown",
   "metadata": {},
   "source": [
    "## We can see that Category - Technology generated the highest revenue of about $827426!\n",
    "\n",
    "## The Total Revenue generated by all the categories - $2261536!"
   ]
  },
  {
   "cell_type": "markdown",
   "metadata": {},
   "source": [
    "## Which products contributed most to the revenue?"
   ]
  },
  {
   "cell_type": "code",
   "execution_count": null,
   "metadata": {},
   "outputs": [],
   "source": [
    "Top_products = numeric_columns.groupby([\"Product Name\"]).sum().sort_values(\"Sales\",ascending=False).head(8) # Sort the product names as per the sales\n",
    "Top_products = Top_products[[\"Sales\"]].round(2) # Round off the Sales Value up to 2 decimal places\n",
    "Top_products.reset_index(inplace=True) # Since we have used groupby, we will have to reset the index to add the product names into the dataframe\n",
    "total_revenue_products = Top_products[\"Sales\"].sum() # To find the total revenue generated by all the top products\n",
    "total_revenue_products = str(int(total_revenue_products)) # Convert the total_revenue_products from float to int and then to string\n",
    "total_revenue_products = '$' + total_revenue_products # Adding '$' sign before the Value"
   ]
  },
  {
   "cell_type": "code",
   "execution_count": null,
   "metadata": {},
   "outputs": [],
   "source": [
    "plt.rcParams[\"figure.figsize\"] = (13,7) # width and height of figure is defined in inches\n",
    "plt.rcParams['font.size'] = 12.0 # Font size is defined for the figure\n",
    "colors = ['#ff9999','#66b3ff','#99ff99','#ffcc99','#55B4B0','#E15D44','#009B77','#B565A7'] # colors are defined for the pie chart\n",
    "explode = (0.05,0.05,0.05,0.05,0.05,0.05,0.05,0.05)\n",
    "fig1, ax1 = plt.subplots()\n",
    "ax1.pie(Top_products['Sales'], colors = colors, labels=Top_products['Product Name'], autopct= autopct_format(Top_products['Sales']), startangle=90,explode=explode)\n",
    "centre_circle = plt.Circle((0,0),0.80,fc='white') # Draw a circle on the pie chart\n",
    "fig = plt.gcf()\n",
    "fig.gca().add_artist(centre_circle)\n",
    "# Equal aspect ratio ensures that pie is drawn as a circle\n",
    "ax1.axis('equal')  \n",
    "label = ax1.annotate('Total Revenue \\n of these products \\n'+str(total_revenue_products),color = 'red', xy=(0, 0), fontsize=12, ha=\"center\")\n",
    "plt.tight_layout()\n",
    "plt.show()"
   ]
  },
  {
   "cell_type": "markdown",
   "metadata": {},
   "source": [
    "## We can see that Product - Canon imageCLASS 2200 Advanced Copier generated the highest revenue of about $61600!\n",
    "\n",
    " ## The Total Revenue generated by all these products - $209624!"
   ]
  },
  {
   "cell_type": "markdown",
   "metadata": {},
   "source": [
    "## Let's look at the revenue generated by each Sub-Category!"
   ]
  },
  {
   "cell_type": "code",
   "execution_count": null,
   "metadata": {},
   "outputs": [],
   "source": [
    "Top_subcat = numeric_columns.groupby(['Category','Sub-Category']).sum().sort_values(\"Sales\", ascending=False).head(10)\n",
    "Top_subcat = Top_subcat[[\"Sales\"]].astype(int) # Cast Sales column to integer data type\n",
    "Top_subcat = Top_subcat.sort_values(\"Category\") # Sort the values as per Category\n",
    "Top_subcat.reset_index(inplace=True) # Since we have used groupby, we will have to reset the index to add both columns into data frame\n",
    "Top_subcat_1 = Top_subcat.groupby(['Category']).sum() # Calculated the total Sales of all the categories\n",
    "Top_subcat_1.reset_index(inplace=True)"
   ]
  },
  {
   "cell_type": "code",
   "execution_count": null,
   "metadata": {},
   "outputs": [],
   "source": [
    "plt.rcParams[\"figure.figsize\"] = (15,10) # width and height of figure is defined in inches\n",
    "fig, ax = plt.subplots()\n",
    "ax.axis('equal') # Equal aspect ratio ensures that pie is drawn as a circle\n",
    "width = 0.1\n",
    "outer_colors = ['#FE840E','#009B77','#BC243C'] # Outer colors of the pie chart\n",
    "inner_colors = ['Orangered','tomato','coral',\"darkturquoise\",\"mediumturquoise\",\"paleturquoise\",\"lightpink\",\"pink\",\"hotpink\",\"deeppink\"] # inner colors of the pie chart\n",
    "pie = ax.pie(Top_subcat_1['Sales'], radius=1, labels=Top_subcat_1['Category'],colors=outer_colors,wedgeprops=dict(edgecolor='w'))\n",
    "pie2 = ax.pie(Top_subcat['Sales'], radius=1-width, labels=Top_subcat['Sub-Category'],autopct= autopct_format(Top_subcat['Sales']),labeldistance=0.7,colors=inner_colors,wedgeprops=dict(edgecolor='w'), pctdistance=0.53,rotatelabels =True)\n",
    "# Rotate fractions\n",
    "# [0] = wedges, [1] = labels, [2] = fractions\n",
    "fraction_text_list = pie2[2]\n",
    "for text in fraction_text_list: \n",
    "    text.set_rotation(315) # rotate the autopct values\n",
    "centre_circle = plt.Circle((0,0),0.6,fc='white') # Draw a circle on the pie chart\n",
    "fig = plt.gcf()\n",
    "fig.gca().add_artist(centre_circle)\n",
    "# Equal aspect ratio ensures that pie is drawn as a circle\n",
    "ax1.axis('equal')  \n",
    "plt.tight_layout()\n",
    "plt.show()"
   ]
  },
  {
   "cell_type": "markdown",
   "metadata": {},
   "source": [
    "## We can see that Sub-Category - Phones generated the highest revenue of about $327782!"
   ]
  },
  {
   "cell_type": "markdown",
   "metadata": {},
   "source": [
    "## Which Segment has the highest sales?"
   ]
  },
  {
   "cell_type": "code",
   "execution_count": null,
   "metadata": {},
   "outputs": [],
   "source": [
    "Top_segment = numeric_columns.groupby([\"Segment\"]).sum().sort_values(\"Sales\", ascending=False) # Sort the segment as per the sales\n",
    "Top_segment = Top_segment[[\"Sales\"]] # keep only the sales column in the dataframe\n",
    "Top_segment.reset_index(inplace=True) # Since we have used groupby, we will have to reset the index to add the segment column into the data frame\n",
    "total_revenue_segement = Top_segment[\"Sales\"].sum() # To find the total revenue generated as per segment\n",
    "total_revenue_segement = str(int(total_revenue_segement)) # Convert the total_revenue_segment from float to int and then to string\n",
    "total_revenue_segement= '$' + total_revenue_segement"
   ]
  },
  {
   "cell_type": "code",
   "execution_count": null,
   "metadata": {},
   "outputs": [],
   "source": [
    "plt.rcParams[\"figure.figsize\"] = (13,5) # width and height of figure is defined in inches\n",
    "plt.rcParams['font.size'] = 12.0 # Font size is defined\n",
    "plt.rcParams['font.weight'] = 6 # Font weight is defined\n",
    "colors = ['#BC243C','#FE840E','#C62168'] # Colors are defined for the pie chart\n",
    "explode = (0.05,0.05,0.05)\n",
    "fig1, ax1 = plt.subplots()\n",
    "ax1.pie(Top_segment['Sales'], colors = colors, labels=Top_segment['Segment'], autopct= autopct_format(Top_segment['Sales']),startangle=90,explode=explode)\n",
    "centre_circle = plt.Circle((0,0),0.85,fc='white') # Draw a circle on the pie chart\n",
    "fig = plt.gcf()\n",
    "fig.gca().add_artist(centre_circle)\n",
    "# Equal aspect ratio ensures that pie is drawn as a circle\n",
    "ax1.axis('equal') \n",
    "label = ax1.annotate('Total Revenue \\n'+str(total_revenue_segement),color = 'red', xy=(0, 0), fontsize=12, ha=\"center\")\n",
    "plt.tight_layout()\n",
    "plt.show()"
   ]
  },
  {
   "cell_type": "markdown",
   "metadata": {},
   "source": [
    "## We can see that Segment - Consumer generated the highest revenue of about $1148061!\n",
    "\n",
    "## The Total Revenue generated by all the segments - $209624!"
   ]
  },
  {
   "cell_type": "markdown",
   "metadata": {},
   "source": [
    "## Which Region has the highest sales?"
   ]
  },
  {
   "cell_type": "code",
   "execution_count": null,
   "metadata": {},
   "outputs": [],
   "source": [
    "Top_region = numeric_columns.groupby([\"Region\"]).sum().sort_values(\"Sales\", ascending=False) # Sort the Region as per the sales\n",
    "Top_region = Top_region[[\"Sales\"]].astype(int) # Cast Sales column to integer data type\n",
    "Top_region.reset_index(inplace=True)"
   ]
  },
  {
   "cell_type": "code",
   "execution_count": null,
   "metadata": {},
   "outputs": [],
   "source": [
    "plt.figure(figsize = (10,5)) # width and height of figure is defined in inches\n",
    "plt.title(\"Region-wise Revenue Generation\", fontsize=18)\n",
    "plt.bar(Top_region[\"Region\"], Top_region[\"Sales\"],color= '#FF6F61',edgecolor='Red', linewidth = 1)\n",
    "plt.xlabel(\"Region\",fontsize=15) # x axis shows the Region \n",
    "plt.ylabel(\"Revenue\",fontsize=15) # y axis show the Revenue generated\n",
    "plt.xticks(fontsize=12, rotation=90)\n",
    "plt.yticks(fontsize=12)\n",
    "for k,v in Top_region[\"Sales\"].items(): #To show the exact revenue generated on the figure\n",
    "        plt.text(k,v-150000,'$'+ str(v), fontsize=12,color='k', horizontalalignment='center');"
   ]
  },
  {
   "cell_type": "markdown",
   "metadata": {},
   "source": [
    "## Which shipping mode has the highest sales?\n"
   ]
  },
  {
   "cell_type": "code",
   "execution_count": null,
   "metadata": {},
   "outputs": [],
   "source": [
    "Top_shipping = numeric_columns.groupby([\"Ship Mode\"]).sum().sort_values(\"Sales\", ascending=False) # Sort the Shipping modes as per the sales\n",
    "Top_shipping = Top_shipping[[\"Sales\"]] # keep only the sales column in the dataframe\n",
    "Top_shipping.reset_index(inplace=True) # Since we have used groupby, we will have to reset the index to add the Ship Mode column into the data frame\n",
    "total_revenue_ship = Top_segment[\"Sales\"].sum() # To find the total revenue generated as per shipping mode\n",
    "total_revenue_ship = str(int(total_revenue_ship)) # Convert the total_revenue_ship from float to int and then to string\n",
    "total_revenue_ship = '$' + total_revenue_ship"
   ]
  },
  {
   "cell_type": "code",
   "execution_count": null,
   "metadata": {},
   "outputs": [],
   "source": [
    "plt.rcParams[\"figure.figsize\"] = (13,5) # width and height of figure is defined in inches\n",
    "plt.rcParams['font.size'] = 12.0 # Font size is defined\n",
    "plt.rcParams['font.weight'] = 6 # Font weight is defined\n",
    "colors = ['#BC243C','#FE840E','#C62168',\"limegreen\"] # define colors for the pie chart\n",
    "fig1, ax1 = plt.subplots()\n",
    "ax1.pie(Top_shipping['Sales'], colors = colors, labels=Top_shipping['Ship Mode'], autopct= autopct_format(Top_shipping['Sales']), startangle=90)\n",
    "centre_circle = plt.Circle((0,0),0.82,fc='white') # Draw a circle on the pie chart\n",
    "fig = plt.gcf()\n",
    "fig.gca().add_artist(centre_circle)\n",
    "# Equal aspect ratio ensures that pie is drawn as a circle\n",
    "ax1.axis('equal') \n",
    "label = ax1.annotate('Total Revenue \\n'+str(total_revenue_ship),color = 'red', xy=(0, 0), fontsize=12, ha=\"center\")\n",
    "plt.tight_layout()\n",
    "plt.show()"
   ]
  },
  {
   "cell_type": "markdown",
   "metadata": {},
   "source": [
    "## We can see that Shipping mode - Standard Class generated the highest revenue of about $1340831!\n",
    "\n",
    "## The Total Revenue generated by all the shipping modes - $2261536!"
   ]
  },
  {
   "cell_type": "markdown",
   "metadata": {},
   "source": [
    "## Correlation of Features\n"
   ]
  },
  {
   "cell_type": "code",
   "execution_count": null,
   "metadata": {},
   "outputs": [],
   "source": [
    "df1 = df[['Segment','Sales']]\n",
    "df_cat = pd.get_dummies(df1)\n",
    "cor_mat = df_cat.corr()\n",
    "mask = np.array(cor_mat)\n",
    "mask[np.tril_indices_from(mask)]=False\n",
    "fig = plt.gcf()\n",
    "fig.set_size_inches(20,5)\n",
    "sns.heatmap(data = cor_mat, mask = mask, square = True, annot = True, cbar = True);"
   ]
  },
  {
   "cell_type": "code",
   "execution_count": null,
   "metadata": {},
   "outputs": [],
   "source": [
    "df1 = df[['Category','Sales']]\n",
    "df_cat = pd.get_dummies(df1)\n",
    "cor_mat = df_cat.corr()\n",
    "mask = np.array(cor_mat)\n",
    "mask[np.tril_indices_from(mask)]=False\n",
    "fig = plt.gcf()\n",
    "fig.set_size_inches(20,5)\n",
    "sns.heatmap(data = cor_mat, mask = mask, square = True, annot = True, cbar = True);"
   ]
  },
  {
   "cell_type": "code",
   "execution_count": null,
   "metadata": {},
   "outputs": [],
   "source": [
    "df1 = df[['Ship Mode','Sales']]\n",
    "df_cat = pd.get_dummies(df1)\n",
    "cor_mat = df_cat.corr()\n",
    "mask = np.array(cor_mat)\n",
    "mask[np.tril_indices_from(mask)]=False\n",
    "fig = plt.gcf()\n",
    "fig.set_size_inches(20,5)\n",
    "sns.heatmap(data = cor_mat, mask = mask, square = True, annot = True, cbar = True);"
   ]
  },
  {
   "cell_type": "code",
   "execution_count": null,
   "metadata": {},
   "outputs": [],
   "source": [
    "new_data = pd.DataFrame(df['Sales'])\n",
    "new_data"
   ]
  },
  {
   "cell_type": "code",
   "execution_count": null,
   "metadata": {},
   "outputs": [],
   "source": [
    "new_data.plot();"
   ]
  },
  {
   "cell_type": "markdown",
   "metadata": {},
   "source": [
    "## Seasonal Decomposition\n",
    "\n",
    "#### Seasonal decomposition is a technique used to break down a time series into its constituent components, namely trend, seasonality, and residual (or noise). This technique is valuable for understanding the underlying patterns and fluctuations in time series data.\n",
    "\n",
    "#### Components:\n",
    "\n",
    "#### 1.Trend: The long-term movement or direction of the data, representing the overall growth or decline.\n",
    "#### 2.Seasonality: The repeating pattern or variation that occurs at fixed intervals, such as daily, weekly, monthly, or yearly.\n",
    "#### 3.Residual: The remaining random variation or noise after removing the trend and seasonality."
   ]
  },
  {
   "cell_type": "code",
   "execution_count": null,
   "metadata": {},
   "outputs": [],
   "source": [
    "from pylab import rcParams\n",
    "rcParams['figure.figsize'] = 20, 10\n",
    "\n",
    "import statsmodels.api as sm\n",
    "decomposition = sm.tsa.seasonal_decompose(new_data, model='additive',period=30) #function used to decompose Time Series Data into Trend and Seasonality\n",
    "fig = decomposition.plot()\n",
    "plt.show();"
   ]
  },
  {
   "cell_type": "code",
   "execution_count": null,
   "metadata": {},
   "outputs": [],
   "source": []
  }
 ],
 "metadata": {
  "kernelspec": {
   "display_name": "Python 3",
   "language": "python",
   "name": "python3"
  },
  "language_info": {
   "codemirror_mode": {
    "name": "ipython",
    "version": 3
   },
   "file_extension": ".py",
   "mimetype": "text/x-python",
   "name": "python",
   "nbconvert_exporter": "python",
   "pygments_lexer": "ipython3",
   "version": "3.8.3"
  }
 },
 "nbformat": 4,
 "nbformat_minor": 4
}
